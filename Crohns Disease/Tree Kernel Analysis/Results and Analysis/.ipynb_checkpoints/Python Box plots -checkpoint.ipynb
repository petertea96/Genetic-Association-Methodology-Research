{
 "cells": [
  {
   "cell_type": "markdown",
   "metadata": {},
   "source": [
    "## Boxplots with Plotly"
   ]
  },
  {
   "cell_type": "markdown",
   "metadata": {},
   "source": [
    "### Just for fun, I decided to re-create the boxplots I've made, but this time use Python instead of R ! :)"
   ]
  },
  {
   "cell_type": "code",
   "execution_count": 11,
   "metadata": {},
   "outputs": [
    {
     "data": {
      "text/html": [
       "<script type=\"text/javascript\">window.PlotlyConfig = {MathJaxConfig: 'local'};</script><script type=\"text/javascript\">if (window.MathJax) {MathJax.Hub.Config({SVG: {font: \"STIX-Web\"}});}</script><script>requirejs.config({paths: { 'plotly': ['https://cdn.plot.ly/plotly-latest.min']},});if(!window._Plotly) {require(['plotly'],function(plotly) {window._Plotly=plotly;});}</script>"
      ],
      "text/vnd.plotly.v1+html": [
       "<script type=\"text/javascript\">window.PlotlyConfig = {MathJaxConfig: 'local'};</script><script type=\"text/javascript\">if (window.MathJax) {MathJax.Hub.Config({SVG: {font: \"STIX-Web\"}});}</script><script>requirejs.config({paths: { 'plotly': ['https://cdn.plot.ly/plotly-latest.min']},});if(!window._Plotly) {require(['plotly'],function(plotly) {window._Plotly=plotly;});}</script>"
      ]
     },
     "metadata": {},
     "output_type": "display_data"
    }
   ],
   "source": [
    "import pandas as pd\n",
    "import numpy as np\n",
    "%matplotlib inline\n",
    "from plotly.offline import download_plotlyjs, init_notebook_mode, plot, iplot\n",
    "import cufflinks as cf\n",
    "\n",
    "# For Notebooks\n",
    "init_notebook_mode(connected=True)\n",
    "\n",
    "import plotly \n",
    "plotly.tools.set_credentials_file(username='petertea96', api_key='RHh3850wtOVu8O2qQ8RE')"
   ]
  },
  {
   "cell_type": "code",
   "execution_count": 14,
   "metadata": {},
   "outputs": [
    {
     "data": {
      "text/html": [
       "<div>\n",
       "<style scoped>\n",
       "    .dataframe tbody tr th:only-of-type {\n",
       "        vertical-align: middle;\n",
       "    }\n",
       "\n",
       "    .dataframe tbody tr th {\n",
       "        vertical-align: top;\n",
       "    }\n",
       "\n",
       "    .dataframe thead th {\n",
       "        text-align: right;\n",
       "    }\n",
       "</style>\n",
       "<table border=\"1\" class=\"dataframe\">\n",
       "  <thead>\n",
       "    <tr style=\"text-align: right;\">\n",
       "      <th></th>\n",
       "      <th>Tree 1</th>\n",
       "      <th>Tree 2</th>\n",
       "      <th>Tree 3</th>\n",
       "      <th>Tree 4</th>\n",
       "      <th>Tree 5</th>\n",
       "    </tr>\n",
       "  </thead>\n",
       "  <tbody>\n",
       "    <tr>\n",
       "      <th>0</th>\n",
       "      <td>313.031412</td>\n",
       "      <td>142.806695</td>\n",
       "      <td>41302.069636</td>\n",
       "      <td>41776.261240</td>\n",
       "      <td>78.100088</td>\n",
       "    </tr>\n",
       "    <tr>\n",
       "      <th>1</th>\n",
       "      <td>328.531620</td>\n",
       "      <td>151.952383</td>\n",
       "      <td>41840.073217</td>\n",
       "      <td>42875.895849</td>\n",
       "      <td>78.581876</td>\n",
       "    </tr>\n",
       "    <tr>\n",
       "      <th>2</th>\n",
       "      <td>351.060452</td>\n",
       "      <td>150.408905</td>\n",
       "      <td>41075.620186</td>\n",
       "      <td>41526.738357</td>\n",
       "      <td>77.477785</td>\n",
       "    </tr>\n",
       "    <tr>\n",
       "      <th>3</th>\n",
       "      <td>359.748125</td>\n",
       "      <td>162.764730</td>\n",
       "      <td>42314.574375</td>\n",
       "      <td>42518.661349</td>\n",
       "      <td>79.642801</td>\n",
       "    </tr>\n",
       "    <tr>\n",
       "      <th>4</th>\n",
       "      <td>333.503237</td>\n",
       "      <td>152.678401</td>\n",
       "      <td>41576.435937</td>\n",
       "      <td>42125.662318</td>\n",
       "      <td>78.628569</td>\n",
       "    </tr>\n",
       "  </tbody>\n",
       "</table>\n",
       "</div>"
      ],
      "text/plain": [
       "       Tree 1      Tree 2        Tree 3        Tree 4     Tree 5\n",
       "0  313.031412  142.806695  41302.069636  41776.261240  78.100088\n",
       "1  328.531620  151.952383  41840.073217  42875.895849  78.581876\n",
       "2  351.060452  150.408905  41075.620186  41526.738357  77.477785\n",
       "3  359.748125  162.764730  42314.574375  42518.661349  79.642801\n",
       "4  333.503237  152.678401  41576.435937  42125.662318  78.628569"
      ]
     },
     "execution_count": 14,
     "metadata": {},
     "output_type": "execute_result"
    }
   ],
   "source": [
    "### ----- SKAT Boxplots ----- ###\n",
    "\n",
    "SKAT_data = pd.read_csv('SKAT_mean_results.txt', sep=\" \", header=None)\n",
    "\n",
    "SKAT_data.columns = \"Tree 1,Tree 2,Tree 3,Tree 4,Tree 5\".split(\",\") #Rename columns\n",
    "\n",
    "SKAT_data.head()\n",
    "\n",
    "SKAT_data.shape #Check dim() of the dataframe"
   ]
  },
  {
   "cell_type": "code",
   "execution_count": 18,
   "metadata": {},
   "outputs": [
    {
     "name": "stderr",
     "output_type": "stream",
     "text": [
      "C:\\Users\\Peter\\Anaconda3\\lib\\site-packages\\IPython\\core\\display.py:689: UserWarning:\n",
      "\n",
      "Consider using IPython.display.IFrame instead\n",
      "\n"
     ]
    },
    {
     "data": {
      "text/html": [
       "<iframe id=\"igraph\" scrolling=\"no\" style=\"border:none;\" seamless=\"seamless\" src=\"https://plot.ly/~petertea96/4.embed\" height=\"525px\" width=\"100%\"></iframe>"
      ],
      "text/plain": [
       "<plotly.tools.PlotlyDisplay object>"
      ]
     },
     "execution_count": 18,
     "metadata": {},
     "output_type": "execute_result"
    }
   ],
   "source": [
    "SKAT_data.iplot(kind='box', title = \"SKAT - Tree Kernel association statistic distributions\",\n",
    "                xTitle = \"Tree kernel\", yTitle=\"Statistic value\") # Plot the boxplots"
   ]
  },
  {
   "cell_type": "code",
   "execution_count": 21,
   "metadata": {},
   "outputs": [
    {
     "data": {
      "text/html": [
       "<iframe id=\"igraph\" scrolling=\"no\" style=\"border:none;\" seamless=\"seamless\" src=\"https://plot.ly/~petertea96/6.embed\" height=\"525px\" width=\"100%\"></iframe>"
      ],
      "text/plain": [
       "<plotly.tools.PlotlyDisplay object>"
      ]
     },
     "execution_count": 21,
     "metadata": {},
     "output_type": "execute_result"
    }
   ],
   "source": [
    "### ----- MDMR Boxplots ----- ###\n",
    "\n",
    "MDMR_data = pd.read_csv('MDMR_mean_results.txt', sep=\" \", header=None)\n",
    "\n",
    "MDMR_data.columns = \"Tree 1,Tree 2,Tree 3,Tree 4,Tree 5\".split(\",\") #Rename columns\n",
    "\n",
    "MDMR_data.head()\n",
    "\n",
    "MDMR_data.shape #Check dim() of the dataframe\n",
    "\n",
    "MDMR_data.iplot(kind='box', title = \"MDMR - Tree Kernel association statistic distributions\",\n",
    "                xTitle = \"Tree kernel\", yTitle=\"Statistic value\") # Plot the boxplots\n"
   ]
  },
  {
   "cell_type": "code",
   "execution_count": 24,
   "metadata": {},
   "outputs": [
    {
     "data": {
      "text/html": [
       "<iframe id=\"igraph\" scrolling=\"no\" style=\"border:none;\" seamless=\"seamless\" src=\"https://plot.ly/~petertea96/8.embed\" height=\"525px\" width=\"100%\"></iframe>"
      ],
      "text/plain": [
       "<plotly.tools.PlotlyDisplay object>"
      ]
     },
     "execution_count": 24,
     "metadata": {},
     "output_type": "execute_result"
    }
   ],
   "source": [
    "### ----- GTSR Boxplots ----- ###\n",
    "\n",
    "GTSR_data = pd.read_csv('GTSR_mean_results.txt', sep=\" \", header=None)\n",
    "\n",
    "GTSR_data.columns = \"Tree 1,Tree 2,Tree 3,Tree 4,Tree 5\".split(\",\") #Rename columns\n",
    "\n",
    "GTSR_data.head()\n",
    "\n",
    "GTSR_data.shape #Check dim() of the dataframe\n",
    "\n",
    "GTSR_data.iplot(kind='box', title = \"GTSR - Tree Kernel association statistic distributions\",\n",
    "                xTitle = \"Tree kernel\", yTitle=\"Statistic value\") # Plot the boxplots"
   ]
  }
 ],
 "metadata": {
  "kernelspec": {
   "display_name": "Python 3",
   "language": "python",
   "name": "python3"
  },
  "language_info": {
   "codemirror_mode": {
    "name": "ipython",
    "version": 3
   },
   "file_extension": ".py",
   "mimetype": "text/x-python",
   "name": "python",
   "nbconvert_exporter": "python",
   "pygments_lexer": "ipython3",
   "version": "3.7.1"
  }
 },
 "nbformat": 4,
 "nbformat_minor": 2
}
